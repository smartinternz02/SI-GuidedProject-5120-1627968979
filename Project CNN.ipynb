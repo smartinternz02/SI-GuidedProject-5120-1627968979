{
 "cells": [
  {
   "cell_type": "code",
   "execution_count": 50,
   "metadata": {},
   "outputs": [],
   "source": [
    "from tensorflow.keras.models import Sequential\n",
    "from tensorflow.keras.layers import Dense,Flatten,Convolution2D,MaxPooling2D"
   ]
  },
  {
   "cell_type": "code",
   "execution_count": 51,
   "metadata": {},
   "outputs": [],
   "source": [
    "from tensorflow.keras.preprocessing.image import ImageDataGenerator"
   ]
  },
  {
   "cell_type": "code",
   "execution_count": 52,
   "metadata": {},
   "outputs": [],
   "source": [
    "train_datagen= ImageDataGenerator(rescale=1./255,shear_range=0.2,zoom_range=0.2,horizontal_flip=True)\n",
    "test_datagen= ImageDataGenerator(rescale=1./255)"
   ]
  },
  {
   "cell_type": "code",
   "execution_count": 53,
   "metadata": {},
   "outputs": [
    {
     "name": "stdout",
     "output_type": "stream",
     "text": [
      "Found 1000 images belonging to 2 classes.\n",
      "Found 1000 images belonging to 2 classes.\n"
     ]
    }
   ],
   "source": [
    "x_train=train_datagen.flow_from_directory(r\"D:\\Mahe Basics\\Externship\",target_size=(64,64),batch_size=32,class_mode='categorical')\n",
    "x_test=train_datagen.flow_from_directory(r\"D:\\Mahe Basics\\Externship\",target_size=(64,64),batch_size=32,class_mode='categorical')"
   ]
  },
  {
   "cell_type": "code",
   "execution_count": 54,
   "metadata": {},
   "outputs": [],
   "source": [
    "cnn=Sequential()"
   ]
  },
  {
   "cell_type": "code",
   "execution_count": 55,
   "metadata": {},
   "outputs": [],
   "source": [
    "cnn.add(Convolution2D(32,(3,3),input_shape=(64,64,3)))"
   ]
  },
  {
   "cell_type": "code",
   "execution_count": 56,
   "metadata": {},
   "outputs": [],
   "source": [
    "cnn.add(MaxPooling2D(2,2))"
   ]
  },
  {
   "cell_type": "code",
   "execution_count": 57,
   "metadata": {},
   "outputs": [],
   "source": [
    "cnn.add(Flatten())"
   ]
  },
  {
   "cell_type": "code",
   "execution_count": 58,
   "metadata": {},
   "outputs": [],
   "source": [
    "cnn.add(Dense(units =128 ,kernel_initializer=\"random_uniform\",activation = 'relu'))"
   ]
  },
  {
   "cell_type": "code",
   "execution_count": 59,
   "metadata": {},
   "outputs": [],
   "source": [
    "cnn.add(Dense(units = 2,kernel_initializer=\"random_uniform\",activation = 'softmax'))"
   ]
  },
  {
   "cell_type": "code",
   "execution_count": 60,
   "metadata": {},
   "outputs": [],
   "source": [
    "cnn.compile(optimizer = 'rmsprop',loss=\"categorical_crossentropy\",metrics = ['accuracy'])"
   ]
  },
  {
   "cell_type": "code",
   "execution_count": 61,
   "metadata": {},
   "outputs": [
    {
     "name": "stdout",
     "output_type": "stream",
     "text": [
      "Epoch 1/15\n",
      "22/21 [==============================] - 18s 799ms/step - loss: 1.7679 - acc: 0.6222 - val_loss: 0.9281 - val_acc: 0.6938\n",
      "Epoch 2/15\n",
      "22/21 [==============================] - 4s 172ms/step - loss: 0.6562 - acc: 0.6868 - val_loss: 0.7630 - val_acc: 0.6938\n",
      "Epoch 3/15\n",
      "22/21 [==============================] - 3s 130ms/step - loss: 0.6742 - acc: 0.6485 - val_loss: 0.6550 - val_acc: 0.6938\n",
      "Epoch 4/15\n",
      "22/21 [==============================] - 3s 123ms/step - loss: 0.6562 - acc: 0.6824 - val_loss: 0.6364 - val_acc: 0.7063\n",
      "Epoch 5/15\n",
      "22/21 [==============================] - 3s 143ms/step - loss: 0.6497 - acc: 0.6562 - val_loss: 0.6573 - val_acc: 0.6938\n",
      "Epoch 6/15\n",
      "22/21 [==============================] - 3s 128ms/step - loss: 0.6076 - acc: 0.6956 - val_loss: 0.6209 - val_acc: 0.7094\n",
      "Epoch 7/15\n",
      "22/21 [==============================] - 3s 120ms/step - loss: 0.6080 - acc: 0.7088 - val_loss: 0.6572 - val_acc: 0.6562\n",
      "Epoch 8/15\n",
      "22/21 [==============================] - 3s 149ms/step - loss: 0.6274 - acc: 0.6719 - val_loss: 0.6284 - val_acc: 0.7188\n",
      "Epoch 9/15\n",
      "22/21 [==============================] - 3s 129ms/step - loss: 0.6569 - acc: 0.7043 - val_loss: 0.6478 - val_acc: 0.6969\n",
      "Epoch 10/15\n",
      "22/21 [==============================] - 3s 122ms/step - loss: 0.6143 - acc: 0.7031 - val_loss: 0.6293 - val_acc: 0.7000\n",
      "Epoch 11/15\n",
      "22/21 [==============================] - 3s 152ms/step - loss: 0.5869 - acc: 0.7147 - val_loss: 0.5920 - val_acc: 0.7125\n",
      "Epoch 12/15\n",
      "22/21 [==============================] - 3s 128ms/step - loss: 0.5992 - acc: 0.7044 - val_loss: 0.5941 - val_acc: 0.7250\n",
      "Epoch 13/15\n",
      "22/21 [==============================] - 3s 119ms/step - loss: 0.5904 - acc: 0.7074 - val_loss: 0.5782 - val_acc: 0.7156\n",
      "Epoch 14/15\n",
      "22/21 [==============================] - 3s 154ms/step - loss: 0.5940 - acc: 0.7015 - val_loss: 0.6527 - val_acc: 0.7094\n",
      "Epoch 15/15\n",
      "22/21 [==============================] - 3s 130ms/step - loss: 0.5892 - acc: 0.6956 - val_loss: 0.5750 - val_acc: 0.7250\n"
     ]
    },
    {
     "data": {
      "text/plain": [
       "<tensorflow.python.keras.callbacks.History at 0x126af5c2a90>"
      ]
     },
     "execution_count": 61,
     "metadata": {},
     "output_type": "execute_result"
    }
   ],
   "source": [
    "cnn.fit_generator(x_train,steps_per_epoch=700/32,epochs=15,validation_data=x_test,validation_steps=300/32)"
   ]
  },
  {
   "cell_type": "code",
   "execution_count": 62,
   "metadata": {},
   "outputs": [],
   "source": [
    "cnn.save(\"rocksidentification.h5\")"
   ]
  },
  {
   "cell_type": "code",
   "execution_count": null,
   "metadata": {},
   "outputs": [],
   "source": []
  },
  {
   "cell_type": "code",
   "execution_count": null,
   "metadata": {},
   "outputs": [],
   "source": []
  }
 ],
 "metadata": {
  "kernelspec": {
   "display_name": "Python 3",
   "language": "python",
   "name": "python3"
  },
  "language_info": {
   "codemirror_mode": {
    "name": "ipython",
    "version": 3
   },
   "file_extension": ".py",
   "mimetype": "text/x-python",
   "name": "python",
   "nbconvert_exporter": "python",
   "pygments_lexer": "ipython3",
   "version": "3.7.3"
  }
 },
 "nbformat": 4,
 "nbformat_minor": 2
}
